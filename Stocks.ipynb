{
 "cells": [
  {
   "cell_type": "code",
   "execution_count": 1,
   "id": "011e8652-e387-4397-b773-e61b07119915",
   "metadata": {},
   "outputs": [],
   "source": [
    "import pandas as pd\n",
    "import numpy as np"
   ]
  },
  {
   "cell_type": "code",
   "execution_count": 2,
   "id": "0774ef1f-5879-430f-8629-072f0e868213",
   "metadata": {},
   "outputs": [],
   "source": [
    "df = pd.read_csv(\"stocks.csv\")"
   ]
  },
  {
   "cell_type": "code",
   "execution_count": 3,
   "id": "b58b8927-a41d-4217-aa7b-d2cd280dc87e",
   "metadata": {},
   "outputs": [
    {
     "data": {
      "text/plain": [
       "['Ticker',\n",
       " 'Description',\n",
       " 'Current Ratio (MRQ)',\n",
       " 'Debt to Equity Ratio (MRQ)',\n",
       " 'Net Debt (MRQ)',\n",
       " 'Quick Ratio (MRQ)',\n",
       " 'Total Assets (MRQ)',\n",
       " 'Total Debt (MRQ)',\n",
       " 'Total Current Assets (MRQ)',\n",
       " 'Basic EPS (FY)',\n",
       " 'Basic EPS (TTM)',\n",
       " 'Dividends Paid (FY)',\n",
       " 'Dividends per Share (FY)',\n",
       " 'Dividends per Share (MRQ)',\n",
       " 'Dividends Yield (FY)',\n",
       " 'Country',\n",
       " 'EBITDA (TTM)',\n",
       " 'Enterprise Value/EBITDA (TTM)',\n",
       " 'Enterprise Value (MRQ)',\n",
       " 'EPS Diluted (FY)',\n",
       " 'EPS Forecast (FQ)',\n",
       " 'EPS Diluted (TTM)',\n",
       " 'EPS Diluted (MRQ)',\n",
       " 'Exchange',\n",
       " 'Goodwill',\n",
       " 'Gross Margin (TTM)',\n",
       " 'Gross Profit (FY)',\n",
       " 'Gross Profit (MRQ)',\n",
       " 'Industry',\n",
       " 'Last Year Revenue (FY)',\n",
       " 'Market Capitalization',\n",
       " 'Net Income (FY)',\n",
       " 'Net Margin (TTM)',\n",
       " 'Number of Shareholders',\n",
       " 'Number of Employees',\n",
       " 'Operating Margin (TTM)',\n",
       " 'Pretax Margin (TTM)',\n",
       " 'Price to Book (FY)',\n",
       " 'Price to Book (MRQ)',\n",
       " 'Price to Earnings Ratio (TTM)',\n",
       " 'Price to Free Cash Flow (TTM)',\n",
       " 'Price to Revenue Ratio (TTM)',\n",
       " 'Price to Sales (FY)',\n",
       " 'Rating',\n",
       " 'Recent Earnings Date',\n",
       " 'Return on Assets (TTM)',\n",
       " 'Return on Equity (TTM)',\n",
       " 'Return on Invested Capital (TTM)',\n",
       " 'Revenue per Employee (TTM)',\n",
       " 'Sector',\n",
       " 'Shares Float',\n",
       " 'Total Liabilities (FY)',\n",
       " 'Total Liabilities (MRQ)',\n",
       " 'Total Revenue (FY)',\n",
       " 'Total Shares Outstanding (MRQ)',\n",
       " 'Upcoming Earnings Date',\n",
       " '1-Year Beta',\n",
       " 'Yearly Performance',\n",
       " 'YTD Performance']"
      ]
     },
     "execution_count": 3,
     "metadata": {},
     "output_type": "execute_result"
    }
   ],
   "source": [
    "list(df.columns)"
   ]
  },
  {
   "cell_type": "code",
   "execution_count": null,
   "id": "c47f3c03-3ad1-4d94-b867-234d47425c63",
   "metadata": {},
   "outputs": [],
   "source": []
  }
 ],
 "metadata": {
  "kernelspec": {
   "display_name": "Python 3 (ipykernel)",
   "language": "python",
   "name": "python3"
  },
  "language_info": {
   "codemirror_mode": {
    "name": "ipython",
    "version": 3
   },
   "file_extension": ".py",
   "mimetype": "text/x-python",
   "name": "python",
   "nbconvert_exporter": "python",
   "pygments_lexer": "ipython3",
   "version": "3.9.6"
  }
 },
 "nbformat": 4,
 "nbformat_minor": 5
}
